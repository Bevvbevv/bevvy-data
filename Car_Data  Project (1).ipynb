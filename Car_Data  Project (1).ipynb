{
 "cells": [
  {
   "cell_type": "code",
   "execution_count": 8,
   "metadata": {
    "scrolled": true
   },
   "outputs": [
    {
     "data": {
      "text/html": [
       "<div>\n",
       "<style scoped>\n",
       "    .dataframe tbody tr th:only-of-type {\n",
       "        vertical-align: middle;\n",
       "    }\n",
       "\n",
       "    .dataframe tbody tr th {\n",
       "        vertical-align: top;\n",
       "    }\n",
       "\n",
       "    .dataframe thead th {\n",
       "        text-align: right;\n",
       "    }\n",
       "</style>\n",
       "<table border=\"1\" class=\"dataframe\">\n",
       "  <thead>\n",
       "    <tr style=\"text-align: right;\">\n",
       "      <th></th>\n",
       "      <th>Car_Name</th>\n",
       "      <th>Year</th>\n",
       "      <th>Selling_Price</th>\n",
       "      <th>Present_Price</th>\n",
       "      <th>Kms_Driven</th>\n",
       "      <th>Fuel_Type</th>\n",
       "      <th>Seller_Type</th>\n",
       "      <th>Transmission</th>\n",
       "      <th>Owner</th>\n",
       "    </tr>\n",
       "  </thead>\n",
       "  <tbody>\n",
       "    <tr>\n",
       "      <th>0</th>\n",
       "      <td>ritz</td>\n",
       "      <td>2014</td>\n",
       "      <td>3.35</td>\n",
       "      <td>5.59</td>\n",
       "      <td>27000</td>\n",
       "      <td>Petrol</td>\n",
       "      <td>Dealer</td>\n",
       "      <td>Manual</td>\n",
       "      <td>0</td>\n",
       "    </tr>\n",
       "    <tr>\n",
       "      <th>1</th>\n",
       "      <td>sx4</td>\n",
       "      <td>2013</td>\n",
       "      <td>4.75</td>\n",
       "      <td>9.54</td>\n",
       "      <td>43000</td>\n",
       "      <td>Diesel</td>\n",
       "      <td>Dealer</td>\n",
       "      <td>Manual</td>\n",
       "      <td>0</td>\n",
       "    </tr>\n",
       "    <tr>\n",
       "      <th>2</th>\n",
       "      <td>ciaz</td>\n",
       "      <td>2017</td>\n",
       "      <td>7.25</td>\n",
       "      <td>9.85</td>\n",
       "      <td>6900</td>\n",
       "      <td>Petrol</td>\n",
       "      <td>Dealer</td>\n",
       "      <td>Manual</td>\n",
       "      <td>0</td>\n",
       "    </tr>\n",
       "    <tr>\n",
       "      <th>3</th>\n",
       "      <td>wagon r</td>\n",
       "      <td>2011</td>\n",
       "      <td>2.85</td>\n",
       "      <td>4.15</td>\n",
       "      <td>5200</td>\n",
       "      <td>Petrol</td>\n",
       "      <td>Dealer</td>\n",
       "      <td>Manual</td>\n",
       "      <td>0</td>\n",
       "    </tr>\n",
       "    <tr>\n",
       "      <th>4</th>\n",
       "      <td>swift</td>\n",
       "      <td>2014</td>\n",
       "      <td>4.60</td>\n",
       "      <td>6.87</td>\n",
       "      <td>42450</td>\n",
       "      <td>Diesel</td>\n",
       "      <td>Dealer</td>\n",
       "      <td>Manual</td>\n",
       "      <td>0</td>\n",
       "    </tr>\n",
       "    <tr>\n",
       "      <th>...</th>\n",
       "      <td>...</td>\n",
       "      <td>...</td>\n",
       "      <td>...</td>\n",
       "      <td>...</td>\n",
       "      <td>...</td>\n",
       "      <td>...</td>\n",
       "      <td>...</td>\n",
       "      <td>...</td>\n",
       "      <td>...</td>\n",
       "    </tr>\n",
       "    <tr>\n",
       "      <th>296</th>\n",
       "      <td>city</td>\n",
       "      <td>2016</td>\n",
       "      <td>9.50</td>\n",
       "      <td>11.60</td>\n",
       "      <td>33988</td>\n",
       "      <td>Diesel</td>\n",
       "      <td>Dealer</td>\n",
       "      <td>Manual</td>\n",
       "      <td>0</td>\n",
       "    </tr>\n",
       "    <tr>\n",
       "      <th>297</th>\n",
       "      <td>brio</td>\n",
       "      <td>2015</td>\n",
       "      <td>4.00</td>\n",
       "      <td>5.90</td>\n",
       "      <td>60000</td>\n",
       "      <td>Petrol</td>\n",
       "      <td>Dealer</td>\n",
       "      <td>Manual</td>\n",
       "      <td>0</td>\n",
       "    </tr>\n",
       "    <tr>\n",
       "      <th>298</th>\n",
       "      <td>city</td>\n",
       "      <td>2009</td>\n",
       "      <td>3.35</td>\n",
       "      <td>11.00</td>\n",
       "      <td>87934</td>\n",
       "      <td>Petrol</td>\n",
       "      <td>Dealer</td>\n",
       "      <td>Manual</td>\n",
       "      <td>0</td>\n",
       "    </tr>\n",
       "    <tr>\n",
       "      <th>299</th>\n",
       "      <td>city</td>\n",
       "      <td>2017</td>\n",
       "      <td>11.50</td>\n",
       "      <td>12.50</td>\n",
       "      <td>9000</td>\n",
       "      <td>Diesel</td>\n",
       "      <td>Dealer</td>\n",
       "      <td>Manual</td>\n",
       "      <td>0</td>\n",
       "    </tr>\n",
       "    <tr>\n",
       "      <th>300</th>\n",
       "      <td>brio</td>\n",
       "      <td>2016</td>\n",
       "      <td>5.30</td>\n",
       "      <td>5.90</td>\n",
       "      <td>5464</td>\n",
       "      <td>Petrol</td>\n",
       "      <td>Dealer</td>\n",
       "      <td>Manual</td>\n",
       "      <td>0</td>\n",
       "    </tr>\n",
       "  </tbody>\n",
       "</table>\n",
       "<p>301 rows × 9 columns</p>\n",
       "</div>"
      ],
      "text/plain": [
       "    Car_Name  Year  Selling_Price  Present_Price  Kms_Driven Fuel_Type  \\\n",
       "0       ritz  2014           3.35           5.59       27000    Petrol   \n",
       "1        sx4  2013           4.75           9.54       43000    Diesel   \n",
       "2       ciaz  2017           7.25           9.85        6900    Petrol   \n",
       "3    wagon r  2011           2.85           4.15        5200    Petrol   \n",
       "4      swift  2014           4.60           6.87       42450    Diesel   \n",
       "..       ...   ...            ...            ...         ...       ...   \n",
       "296     city  2016           9.50          11.60       33988    Diesel   \n",
       "297     brio  2015           4.00           5.90       60000    Petrol   \n",
       "298     city  2009           3.35          11.00       87934    Petrol   \n",
       "299     city  2017          11.50          12.50        9000    Diesel   \n",
       "300     brio  2016           5.30           5.90        5464    Petrol   \n",
       "\n",
       "    Seller_Type Transmission  Owner  \n",
       "0        Dealer       Manual      0  \n",
       "1        Dealer       Manual      0  \n",
       "2        Dealer       Manual      0  \n",
       "3        Dealer       Manual      0  \n",
       "4        Dealer       Manual      0  \n",
       "..          ...          ...    ...  \n",
       "296      Dealer       Manual      0  \n",
       "297      Dealer       Manual      0  \n",
       "298      Dealer       Manual      0  \n",
       "299      Dealer       Manual      0  \n",
       "300      Dealer       Manual      0  \n",
       "\n",
       "[301 rows x 9 columns]"
      ]
     },
     "execution_count": 8,
     "metadata": {},
     "output_type": "execute_result"
    }
   ],
   "source": [
    "\n",
    "import pandas \n",
    "data= pandas.read_csv('C:/Users/LAPTOP/Desktop/Modcom Data Science/car data 2.csv')\n",
    "data"
   ]
  },
  {
   "cell_type": "markdown",
   "metadata": {},
   "source": [
    "# Rearrange the Data to have Selling Price as the Output"
   ]
  },
  {
   "cell_type": "code",
   "execution_count": 9,
   "metadata": {},
   "outputs": [
    {
     "data": {
      "text/html": [
       "<div>\n",
       "<style scoped>\n",
       "    .dataframe tbody tr th:only-of-type {\n",
       "        vertical-align: middle;\n",
       "    }\n",
       "\n",
       "    .dataframe tbody tr th {\n",
       "        vertical-align: top;\n",
       "    }\n",
       "\n",
       "    .dataframe thead th {\n",
       "        text-align: right;\n",
       "    }\n",
       "</style>\n",
       "<table border=\"1\" class=\"dataframe\">\n",
       "  <thead>\n",
       "    <tr style=\"text-align: right;\">\n",
       "      <th></th>\n",
       "      <th>Car_Name</th>\n",
       "      <th>Year</th>\n",
       "      <th>Kms_Driven</th>\n",
       "      <th>Fuel_Type</th>\n",
       "      <th>Seller_Type</th>\n",
       "      <th>Transmission</th>\n",
       "      <th>Owner</th>\n",
       "      <th>Present_Price</th>\n",
       "      <th>Selling_Price</th>\n",
       "    </tr>\n",
       "  </thead>\n",
       "  <tbody>\n",
       "    <tr>\n",
       "      <th>0</th>\n",
       "      <td>ritz</td>\n",
       "      <td>2014</td>\n",
       "      <td>27000</td>\n",
       "      <td>Petrol</td>\n",
       "      <td>Dealer</td>\n",
       "      <td>Manual</td>\n",
       "      <td>0</td>\n",
       "      <td>5.59</td>\n",
       "      <td>3.35</td>\n",
       "    </tr>\n",
       "    <tr>\n",
       "      <th>1</th>\n",
       "      <td>sx4</td>\n",
       "      <td>2013</td>\n",
       "      <td>43000</td>\n",
       "      <td>Diesel</td>\n",
       "      <td>Dealer</td>\n",
       "      <td>Manual</td>\n",
       "      <td>0</td>\n",
       "      <td>9.54</td>\n",
       "      <td>4.75</td>\n",
       "    </tr>\n",
       "    <tr>\n",
       "      <th>2</th>\n",
       "      <td>ciaz</td>\n",
       "      <td>2017</td>\n",
       "      <td>6900</td>\n",
       "      <td>Petrol</td>\n",
       "      <td>Dealer</td>\n",
       "      <td>Manual</td>\n",
       "      <td>0</td>\n",
       "      <td>9.85</td>\n",
       "      <td>7.25</td>\n",
       "    </tr>\n",
       "    <tr>\n",
       "      <th>3</th>\n",
       "      <td>wagon r</td>\n",
       "      <td>2011</td>\n",
       "      <td>5200</td>\n",
       "      <td>Petrol</td>\n",
       "      <td>Dealer</td>\n",
       "      <td>Manual</td>\n",
       "      <td>0</td>\n",
       "      <td>4.15</td>\n",
       "      <td>2.85</td>\n",
       "    </tr>\n",
       "    <tr>\n",
       "      <th>4</th>\n",
       "      <td>swift</td>\n",
       "      <td>2014</td>\n",
       "      <td>42450</td>\n",
       "      <td>Diesel</td>\n",
       "      <td>Dealer</td>\n",
       "      <td>Manual</td>\n",
       "      <td>0</td>\n",
       "      <td>6.87</td>\n",
       "      <td>4.60</td>\n",
       "    </tr>\n",
       "    <tr>\n",
       "      <th>...</th>\n",
       "      <td>...</td>\n",
       "      <td>...</td>\n",
       "      <td>...</td>\n",
       "      <td>...</td>\n",
       "      <td>...</td>\n",
       "      <td>...</td>\n",
       "      <td>...</td>\n",
       "      <td>...</td>\n",
       "      <td>...</td>\n",
       "    </tr>\n",
       "    <tr>\n",
       "      <th>296</th>\n",
       "      <td>city</td>\n",
       "      <td>2016</td>\n",
       "      <td>33988</td>\n",
       "      <td>Diesel</td>\n",
       "      <td>Dealer</td>\n",
       "      <td>Manual</td>\n",
       "      <td>0</td>\n",
       "      <td>11.60</td>\n",
       "      <td>9.50</td>\n",
       "    </tr>\n",
       "    <tr>\n",
       "      <th>297</th>\n",
       "      <td>brio</td>\n",
       "      <td>2015</td>\n",
       "      <td>60000</td>\n",
       "      <td>Petrol</td>\n",
       "      <td>Dealer</td>\n",
       "      <td>Manual</td>\n",
       "      <td>0</td>\n",
       "      <td>5.90</td>\n",
       "      <td>4.00</td>\n",
       "    </tr>\n",
       "    <tr>\n",
       "      <th>298</th>\n",
       "      <td>city</td>\n",
       "      <td>2009</td>\n",
       "      <td>87934</td>\n",
       "      <td>Petrol</td>\n",
       "      <td>Dealer</td>\n",
       "      <td>Manual</td>\n",
       "      <td>0</td>\n",
       "      <td>11.00</td>\n",
       "      <td>3.35</td>\n",
       "    </tr>\n",
       "    <tr>\n",
       "      <th>299</th>\n",
       "      <td>city</td>\n",
       "      <td>2017</td>\n",
       "      <td>9000</td>\n",
       "      <td>Diesel</td>\n",
       "      <td>Dealer</td>\n",
       "      <td>Manual</td>\n",
       "      <td>0</td>\n",
       "      <td>12.50</td>\n",
       "      <td>11.50</td>\n",
       "    </tr>\n",
       "    <tr>\n",
       "      <th>300</th>\n",
       "      <td>brio</td>\n",
       "      <td>2016</td>\n",
       "      <td>5464</td>\n",
       "      <td>Petrol</td>\n",
       "      <td>Dealer</td>\n",
       "      <td>Manual</td>\n",
       "      <td>0</td>\n",
       "      <td>5.90</td>\n",
       "      <td>5.30</td>\n",
       "    </tr>\n",
       "  </tbody>\n",
       "</table>\n",
       "<p>301 rows × 9 columns</p>\n",
       "</div>"
      ],
      "text/plain": [
       "    Car_Name  Year  Kms_Driven Fuel_Type Seller_Type Transmission  Owner  \\\n",
       "0       ritz  2014       27000    Petrol      Dealer       Manual      0   \n",
       "1        sx4  2013       43000    Diesel      Dealer       Manual      0   \n",
       "2       ciaz  2017        6900    Petrol      Dealer       Manual      0   \n",
       "3    wagon r  2011        5200    Petrol      Dealer       Manual      0   \n",
       "4      swift  2014       42450    Diesel      Dealer       Manual      0   \n",
       "..       ...   ...         ...       ...         ...          ...    ...   \n",
       "296     city  2016       33988    Diesel      Dealer       Manual      0   \n",
       "297     brio  2015       60000    Petrol      Dealer       Manual      0   \n",
       "298     city  2009       87934    Petrol      Dealer       Manual      0   \n",
       "299     city  2017        9000    Diesel      Dealer       Manual      0   \n",
       "300     brio  2016        5464    Petrol      Dealer       Manual      0   \n",
       "\n",
       "     Present_Price  Selling_Price  \n",
       "0             5.59           3.35  \n",
       "1             9.54           4.75  \n",
       "2             9.85           7.25  \n",
       "3             4.15           2.85  \n",
       "4             6.87           4.60  \n",
       "..             ...            ...  \n",
       "296          11.60           9.50  \n",
       "297           5.90           4.00  \n",
       "298          11.00           3.35  \n",
       "299          12.50          11.50  \n",
       "300           5.90           5.30  \n",
       "\n",
       "[301 rows x 9 columns]"
      ]
     },
     "execution_count": 9,
     "metadata": {},
     "output_type": "execute_result"
    }
   ],
   "source": [
    "\n",
    "cols= list(data.columns.values)\n",
    "\n",
    "cols.pop(cols.index('Selling_Price'))\n",
    "cols.pop(cols.index('Present_Price'))\n",
    "data = data[cols+['Present_Price','Selling_Price']]\n",
    "data\n"
   ]
  },
  {
   "cell_type": "code",
   "execution_count": 10,
   "metadata": {},
   "outputs": [
    {
     "name": "stdout",
     "output_type": "stream",
     "text": [
      "<class 'pandas.core.frame.DataFrame'>\n",
      "RangeIndex: 301 entries, 0 to 300\n",
      "Data columns (total 9 columns):\n",
      " #   Column         Non-Null Count  Dtype  \n",
      "---  ------         --------------  -----  \n",
      " 0   Car_Name       301 non-null    object \n",
      " 1   Year           301 non-null    int64  \n",
      " 2   Kms_Driven     301 non-null    int64  \n",
      " 3   Fuel_Type      301 non-null    object \n",
      " 4   Seller_Type    301 non-null    object \n",
      " 5   Transmission   301 non-null    object \n",
      " 6   Owner          301 non-null    int64  \n",
      " 7   Present_Price  301 non-null    float64\n",
      " 8   Selling_Price  301 non-null    float64\n",
      "dtypes: float64(2), int64(3), object(4)\n",
      "memory usage: 21.3+ KB\n"
     ]
    }
   ],
   "source": [
    "data.info()"
   ]
  },
  {
   "cell_type": "code",
   "execution_count": 11,
   "metadata": {},
   "outputs": [
    {
     "data": {
      "text/plain": [
       "Car_Name         0\n",
       "Year             0\n",
       "Kms_Driven       0\n",
       "Fuel_Type        0\n",
       "Seller_Type      0\n",
       "Transmission     0\n",
       "Owner            0\n",
       "Present_Price    0\n",
       "Selling_Price    0\n",
       "dtype: int64"
      ]
     },
     "execution_count": 11,
     "metadata": {},
     "output_type": "execute_result"
    }
   ],
   "source": [
    "data.isnull().sum()"
   ]
  },
  {
   "cell_type": "code",
   "execution_count": 12,
   "metadata": {},
   "outputs": [
    {
     "data": {
      "text/html": [
       "<div>\n",
       "<style scoped>\n",
       "    .dataframe tbody tr th:only-of-type {\n",
       "        vertical-align: middle;\n",
       "    }\n",
       "\n",
       "    .dataframe tbody tr th {\n",
       "        vertical-align: top;\n",
       "    }\n",
       "\n",
       "    .dataframe thead th {\n",
       "        text-align: right;\n",
       "    }\n",
       "</style>\n",
       "<table border=\"1\" class=\"dataframe\">\n",
       "  <thead>\n",
       "    <tr style=\"text-align: right;\">\n",
       "      <th></th>\n",
       "      <th>Year</th>\n",
       "      <th>Kms_Driven</th>\n",
       "      <th>Owner</th>\n",
       "      <th>Present_Price</th>\n",
       "      <th>Selling_Price</th>\n",
       "    </tr>\n",
       "  </thead>\n",
       "  <tbody>\n",
       "    <tr>\n",
       "      <th>count</th>\n",
       "      <td>301.000000</td>\n",
       "      <td>301.000000</td>\n",
       "      <td>301.000000</td>\n",
       "      <td>301.000000</td>\n",
       "      <td>301.000000</td>\n",
       "    </tr>\n",
       "    <tr>\n",
       "      <th>mean</th>\n",
       "      <td>2013.627907</td>\n",
       "      <td>36947.205980</td>\n",
       "      <td>0.043189</td>\n",
       "      <td>7.628472</td>\n",
       "      <td>4.661296</td>\n",
       "    </tr>\n",
       "    <tr>\n",
       "      <th>std</th>\n",
       "      <td>2.891554</td>\n",
       "      <td>38886.883882</td>\n",
       "      <td>0.247915</td>\n",
       "      <td>8.644115</td>\n",
       "      <td>5.082812</td>\n",
       "    </tr>\n",
       "    <tr>\n",
       "      <th>min</th>\n",
       "      <td>2003.000000</td>\n",
       "      <td>500.000000</td>\n",
       "      <td>0.000000</td>\n",
       "      <td>0.320000</td>\n",
       "      <td>0.100000</td>\n",
       "    </tr>\n",
       "    <tr>\n",
       "      <th>25%</th>\n",
       "      <td>2012.000000</td>\n",
       "      <td>15000.000000</td>\n",
       "      <td>0.000000</td>\n",
       "      <td>1.200000</td>\n",
       "      <td>0.900000</td>\n",
       "    </tr>\n",
       "    <tr>\n",
       "      <th>50%</th>\n",
       "      <td>2014.000000</td>\n",
       "      <td>32000.000000</td>\n",
       "      <td>0.000000</td>\n",
       "      <td>6.400000</td>\n",
       "      <td>3.600000</td>\n",
       "    </tr>\n",
       "    <tr>\n",
       "      <th>75%</th>\n",
       "      <td>2016.000000</td>\n",
       "      <td>48767.000000</td>\n",
       "      <td>0.000000</td>\n",
       "      <td>9.900000</td>\n",
       "      <td>6.000000</td>\n",
       "    </tr>\n",
       "    <tr>\n",
       "      <th>max</th>\n",
       "      <td>2018.000000</td>\n",
       "      <td>500000.000000</td>\n",
       "      <td>3.000000</td>\n",
       "      <td>92.600000</td>\n",
       "      <td>35.000000</td>\n",
       "    </tr>\n",
       "  </tbody>\n",
       "</table>\n",
       "</div>"
      ],
      "text/plain": [
       "              Year     Kms_Driven       Owner  Present_Price  Selling_Price\n",
       "count   301.000000     301.000000  301.000000     301.000000     301.000000\n",
       "mean   2013.627907   36947.205980    0.043189       7.628472       4.661296\n",
       "std       2.891554   38886.883882    0.247915       8.644115       5.082812\n",
       "min    2003.000000     500.000000    0.000000       0.320000       0.100000\n",
       "25%    2012.000000   15000.000000    0.000000       1.200000       0.900000\n",
       "50%    2014.000000   32000.000000    0.000000       6.400000       3.600000\n",
       "75%    2016.000000   48767.000000    0.000000       9.900000       6.000000\n",
       "max    2018.000000  500000.000000    3.000000      92.600000      35.000000"
      ]
     },
     "execution_count": 12,
     "metadata": {},
     "output_type": "execute_result"
    }
   ],
   "source": [
    "data.describe()"
   ]
  },
  {
   "cell_type": "code",
   "execution_count": 13,
   "metadata": {},
   "outputs": [],
   "source": [
    "import matplotlib.pyplot as plt\n",
    "import seaborn as sns"
   ]
  },
  {
   "cell_type": "markdown",
   "metadata": {},
   "source": [
    "# Correlation"
   ]
  },
  {
   "cell_type": "code",
   "execution_count": 14,
   "metadata": {},
   "outputs": [
    {
     "data": {
      "text/plain": [
       "<AxesSubplot:>"
      ]
     },
     "execution_count": 14,
     "metadata": {},
     "output_type": "execute_result"
    },
    {
     "data": {
      "image/png": "[encoded data removed]",
      "text/plain": [
       "<Figure size 432x288 with 2 Axes>"
      ]
     },
     "metadata": {
      "needs_background": "light"
     },
     "output_type": "display_data"
    }
   ],
   "source": [
    "sns.heatmap(data.corr(), annot=True) \n"
   ]
  },
  {
   "cell_type": "code",
   "execution_count": 15,
   "metadata": {},
   "outputs": [],
   "source": [
    "# There is a high correlation with Selling price"
   ]
  },
  {
   "cell_type": "markdown",
   "metadata": {},
   "source": [
    "# Visualisation"
   ]
  },
  {
   "cell_type": "code",
   "execution_count": 16,
   "metadata": {},
   "outputs": [
    {
     "data": {
      "text/plain": [
       "<AxesSubplot:xlabel='Year', ylabel='Selling_Price'>"
      ]
     },
     "execution_count": 16,
     "metadata": {},
     "output_type": "execute_result"
    },
    {
     "data": {
      "image/png": "[encoded data removed]",
      "text/plain": [
       "<Figure size 432x288 with 1 Axes>"
      ]
     },
     "metadata": {
      "needs_background": "light"
     },
     "output_type": "display_data"
    }
   ],
   "source": [
    "sns.lineplot(x='Year', y='Selling_Price', data=data)"
   ]
  },
  {
   "cell_type": "markdown",
   "metadata": {},
   "source": [
    "The selling price of cars rises with years"
   ]
  },
  {
   "cell_type": "code",
   "execution_count": 17,
   "metadata": {},
   "outputs": [
    {
     "data": {
      "text/plain": [
       "<seaborn.axisgrid.FacetGrid at 0x24ce34a5d60>"
      ]
     },
     "execution_count": 17,
     "metadata": {},
     "output_type": "execute_result"
    },
    {
     "data": {
      "image/png": "[encoded data removed]",
      "text/plain": [
       "<Figure size 360x360 with 1 Axes>"
      ]
     },
     "metadata": {
      "needs_background": "light"
     },
     "output_type": "display_data"
    }
   ],
   "source": [
    "sns.lmplot(x = 'Present_Price' , y = 'Selling_Price', data=data)"
   ]
  },
  {
   "cell_type": "code",
   "execution_count": null,
   "metadata": {},
   "outputs": [],
   "source": []
  },
  {
   "cell_type": "code",
   "execution_count": 18,
   "metadata": {},
   "outputs": [
    {
     "name": "stderr",
     "output_type": "stream",
     "text": [
      "C:\\Users\\LAPTOP\\anaconda3\\lib\\site-packages\\seaborn\\distributions.py:2551: FutureWarning: `distplot` is a deprecated function and will be removed in a future version. Please adapt your code to use either `displot` (a figure-level function with similar flexibility) or `histplot` (an axes-level function for histograms).\n",
      "  warnings.warn(msg, FutureWarning)\n"
     ]
    },
    {
     "data": {
      "text/plain": [
       "<AxesSubplot:xlabel='Selling_Price', ylabel='Density'>"
      ]
     },
     "execution_count": 18,
     "metadata": {},
     "output_type": "execute_result"
    },
    {
     "data": {
      "image/png": "[encoded data removed]",
      "text/plain": [
       "<Figure size 432x288 with 1 Axes>"
      ]
     },
     "metadata": {
      "needs_background": "light"
     },
     "output_type": "display_data"
    }
   ],
   "source": [
    "sns.distplot(data['Selling_Price'],color= 'blue')"
   ]
  },
  {
   "cell_type": "code",
   "execution_count": 19,
   "metadata": {},
   "outputs": [
    {
     "name": "stderr",
     "output_type": "stream",
     "text": [
      "C:\\Users\\LAPTOP\\anaconda3\\lib\\site-packages\\seaborn\\categorical.py:1296: UserWarning: 48.1% of the points cannot be placed; you may want to decrease the size of the markers or use stripplot.\n",
      "  warnings.warn(msg, UserWarning)\n"
     ]
    },
    {
     "data": {
      "text/plain": [
       "<AxesSubplot:title={'center':'Seller_Type Vs Selling_Price'}, xlabel='Seller_Type', ylabel='Selling_Price'>"
      ]
     },
     "execution_count": 19,
     "metadata": {},
     "output_type": "execute_result"
    },
    {
     "data": {
      "image/png": "[encoded data removed]",
      "text/plain": [
       "<Figure size 432x288 with 1 Axes>"
      ]
     },
     "metadata": {
      "needs_background": "light"
     },
     "output_type": "display_data"
    }
   ],
   "source": [
    "plt.title('Seller_Type Vs Selling_Price')  \n",
    "sns.swarmplot(x='Seller_Type',y ='Selling_Price', data =data, hue= 'Fuel_Type')\n",
    "           "
   ]
  },
  {
   "cell_type": "markdown",
   "metadata": {},
   "source": [
    "Expalanation: The most used type of fuel is Petrol\n",
    "\n",
    "Most Dealers use Petrol"
   ]
  },
  {
   "cell_type": "code",
   "execution_count": 20,
   "metadata": {},
   "outputs": [
    {
     "name": "stderr",
     "output_type": "stream",
     "text": [
      "C:\\Users\\LAPTOP\\anaconda3\\lib\\site-packages\\seaborn\\categorical.py:1296: UserWarning: 48.1% of the points cannot be placed; you may want to decrease the size of the markers or use stripplot.\n",
      "  warnings.warn(msg, UserWarning)\n"
     ]
    },
    {
     "data": {
      "text/plain": [
       "<AxesSubplot:xlabel='Seller_Type', ylabel='Selling_Price'>"
      ]
     },
     "execution_count": 20,
     "metadata": {},
     "output_type": "execute_result"
    },
    {
     "data": {
      "image/png": "[encoded data removed]",
      "text/plain": [
       "<Figure size 432x288 with 1 Axes>"
      ]
     },
     "metadata": {
      "needs_background": "light"
     },
     "output_type": "display_data"
    }
   ],
   "source": [
    "sns.swarmplot(x = 'Seller_Type' , y = 'Selling_Price', data=data)\n"
   ]
  },
  {
   "cell_type": "markdown",
   "metadata": {},
   "source": [
    "The selling Price of the cars is higher for Dealers"
   ]
  },
  {
   "cell_type": "code",
   "execution_count": 21,
   "metadata": {},
   "outputs": [
    {
     "data": {
      "text/plain": [
       "<AxesSubplot:xlabel='Seller_Type', ylabel='Selling_Price'>"
      ]
     },
     "execution_count": 21,
     "metadata": {},
     "output_type": "execute_result"
    },
    {
     "data": {
      "image/png": "[encoded data removed]",
      "text/plain": [
       "<Figure size 432x288 with 1 Axes>"
      ]
     },
     "metadata": {
      "needs_background": "light"
     },
     "output_type": "display_data"
    }
   ],
   "source": [
    "sns.barplot(x='Seller_Type',y ='Selling_Price', data =data, hue= 'Fuel_Type')"
   ]
  },
  {
   "cell_type": "markdown",
   "metadata": {},
   "source": [
    "Expalanation: The most used type of fuel is Diesel\n",
    "\n",
    "Most individual customers use Diesel"
   ]
  },
  {
   "cell_type": "code",
   "execution_count": 22,
   "metadata": {
    "scrolled": true
   },
   "outputs": [
    {
     "data": {
      "text/plain": [
       "<AxesSubplot:xlabel='Fuel_Type', ylabel='count'>"
      ]
     },
     "execution_count": 22,
     "metadata": {},
     "output_type": "execute_result"
    },
    {
     "data": {
      "image/png": "[encoded data removed]",
      "text/plain": [
       "<Figure size 432x288 with 1 Axes>"
      ]
     },
     "metadata": {
      "needs_background": "light"
     },
     "output_type": "display_data"
    }
   ],
   "source": [
    "sns.countplot(x='Fuel_Type',data=data)"
   ]
  },
  {
   "cell_type": "code",
   "execution_count": 23,
   "metadata": {},
   "outputs": [
    {
     "data": {
      "text/plain": [
       "<AxesSubplot:xlabel='Seller_Type', ylabel='count'>"
      ]
     },
     "execution_count": 23,
     "metadata": {},
     "output_type": "execute_result"
    },
    {
     "data": {
      "image/png": "[encoded data removed]",
      "text/plain": [
       "<Figure size 432x288 with 1 Axes>"
      ]
     },
     "metadata": {
      "needs_background": "light"
     },
     "output_type": "display_data"
    }
   ],
   "source": [
    "sns.countplot(x='Seller_Type',data=data)"
   ]
  },
  {
   "cell_type": "code",
   "execution_count": 24,
   "metadata": {
    "scrolled": true
   },
   "outputs": [
    {
     "data": {
      "text/plain": [
       "<AxesSubplot:xlabel='Transmission', ylabel='count'>"
      ]
     },
     "execution_count": 24,
     "metadata": {},
     "output_type": "execute_result"
    },
    {
     "data": {
      "image/png": "[encoded data removed]",
      "text/plain": [
       "<Figure size 432x288 with 1 Axes>"
      ]
     },
     "metadata": {
      "needs_background": "light"
     },
     "output_type": "display_data"
    }
   ],
   "source": [
    "sns.countplot(x='Transmission',data=data)"
   ]
  },
  {
   "cell_type": "code",
   "execution_count": 25,
   "metadata": {},
   "outputs": [
    {
     "data": {
      "text/plain": [
       "<AxesSubplot:xlabel='Seller_Type', ylabel='Selling_Price'>"
      ]
     },
     "execution_count": 25,
     "metadata": {},
     "output_type": "execute_result"
    },
    {
     "data": {
      "image/png": "[encoded data removed]",
      "text/plain": [
       "<Figure size 432x288 with 1 Axes>"
      ]
     },
     "metadata": {
      "needs_background": "light"
     },
     "output_type": "display_data"
    }
   ],
   "source": [
    "sns.boxplot(x='Seller_Type',y ='Selling_Price', data =data, hue= 'Fuel_Type')\n",
    "          "
   ]
  },
  {
   "cell_type": "code",
   "execution_count": 26,
   "metadata": {},
   "outputs": [
    {
     "data": {
      "text/plain": [
       "<AxesSubplot:xlabel='Kms_Driven', ylabel='Selling_Price'>"
      ]
     },
     "execution_count": 26,
     "metadata": {},
     "output_type": "execute_result"
    },
    {
     "data": {
      "image/png": "[encoded data removed]",
      "text/plain": [
       "<Figure size 432x288 with 1 Axes>"
      ]
     },
     "metadata": {
      "needs_background": "light"
     },
     "output_type": "display_data"
    }
   ],
   "source": [
    "sns.scatterplot(x='Kms_Driven',y ='Selling_Price', data =data)\n",
    "         "
   ]
  },
  {
   "cell_type": "markdown",
   "metadata": {},
   "source": [
    "If  km_driven increases the selling_price decreases"
   ]
  },
  {
   "cell_type": "markdown",
   "metadata": {},
   "source": [
    "# Test and Train Data"
   ]
  },
  {
   "cell_type": "code",
   "execution_count": 27,
   "metadata": {},
   "outputs": [
    {
     "data": {
      "text/html": [
       "<div>\n",
       "<style scoped>\n",
       "    .dataframe tbody tr th:only-of-type {\n",
       "        vertical-align: middle;\n",
       "    }\n",
       "\n",
       "    .dataframe tbody tr th {\n",
       "        vertical-align: top;\n",
       "    }\n",
       "\n",
       "    .dataframe thead th {\n",
       "        text-align: right;\n",
       "    }\n",
       "</style>\n",
       "<table border=\"1\" class=\"dataframe\">\n",
       "  <thead>\n",
       "    <tr style=\"text-align: right;\">\n",
       "      <th></th>\n",
       "      <th>Car_Name</th>\n",
       "      <th>Year</th>\n",
       "      <th>Kms_Driven</th>\n",
       "      <th>Fuel_Type</th>\n",
       "      <th>Seller_Type</th>\n",
       "      <th>Transmission</th>\n",
       "      <th>Owner</th>\n",
       "      <th>Present_Price</th>\n",
       "      <th>Selling_Price</th>\n",
       "    </tr>\n",
       "  </thead>\n",
       "  <tbody>\n",
       "    <tr>\n",
       "      <th>0</th>\n",
       "      <td>90</td>\n",
       "      <td>11</td>\n",
       "      <td>27000</td>\n",
       "      <td>2</td>\n",
       "      <td>0</td>\n",
       "      <td>1</td>\n",
       "      <td>0</td>\n",
       "      <td>5.59</td>\n",
       "      <td>3.35</td>\n",
       "    </tr>\n",
       "    <tr>\n",
       "      <th>1</th>\n",
       "      <td>93</td>\n",
       "      <td>10</td>\n",
       "      <td>43000</td>\n",
       "      <td>1</td>\n",
       "      <td>0</td>\n",
       "      <td>1</td>\n",
       "      <td>0</td>\n",
       "      <td>9.54</td>\n",
       "      <td>4.75</td>\n",
       "    </tr>\n",
       "    <tr>\n",
       "      <th>2</th>\n",
       "      <td>68</td>\n",
       "      <td>14</td>\n",
       "      <td>6900</td>\n",
       "      <td>2</td>\n",
       "      <td>0</td>\n",
       "      <td>1</td>\n",
       "      <td>0</td>\n",
       "      <td>9.85</td>\n",
       "      <td>7.25</td>\n",
       "    </tr>\n",
       "    <tr>\n",
       "      <th>3</th>\n",
       "      <td>96</td>\n",
       "      <td>8</td>\n",
       "      <td>5200</td>\n",
       "      <td>2</td>\n",
       "      <td>0</td>\n",
       "      <td>1</td>\n",
       "      <td>0</td>\n",
       "      <td>4.15</td>\n",
       "      <td>2.85</td>\n",
       "    </tr>\n",
       "    <tr>\n",
       "      <th>4</th>\n",
       "      <td>92</td>\n",
       "      <td>11</td>\n",
       "      <td>42450</td>\n",
       "      <td>1</td>\n",
       "      <td>0</td>\n",
       "      <td>1</td>\n",
       "      <td>0</td>\n",
       "      <td>6.87</td>\n",
       "      <td>4.60</td>\n",
       "    </tr>\n",
       "    <tr>\n",
       "      <th>...</th>\n",
       "      <td>...</td>\n",
       "      <td>...</td>\n",
       "      <td>...</td>\n",
       "      <td>...</td>\n",
       "      <td>...</td>\n",
       "      <td>...</td>\n",
       "      <td>...</td>\n",
       "      <td>...</td>\n",
       "      <td>...</td>\n",
       "    </tr>\n",
       "    <tr>\n",
       "      <th>296</th>\n",
       "      <td>69</td>\n",
       "      <td>13</td>\n",
       "      <td>33988</td>\n",
       "      <td>1</td>\n",
       "      <td>0</td>\n",
       "      <td>1</td>\n",
       "      <td>0</td>\n",
       "      <td>11.60</td>\n",
       "      <td>9.50</td>\n",
       "    </tr>\n",
       "    <tr>\n",
       "      <th>297</th>\n",
       "      <td>66</td>\n",
       "      <td>12</td>\n",
       "      <td>60000</td>\n",
       "      <td>2</td>\n",
       "      <td>0</td>\n",
       "      <td>1</td>\n",
       "      <td>0</td>\n",
       "      <td>5.90</td>\n",
       "      <td>4.00</td>\n",
       "    </tr>\n",
       "    <tr>\n",
       "      <th>298</th>\n",
       "      <td>69</td>\n",
       "      <td>6</td>\n",
       "      <td>87934</td>\n",
       "      <td>2</td>\n",
       "      <td>0</td>\n",
       "      <td>1</td>\n",
       "      <td>0</td>\n",
       "      <td>11.00</td>\n",
       "      <td>3.35</td>\n",
       "    </tr>\n",
       "    <tr>\n",
       "      <th>299</th>\n",
       "      <td>69</td>\n",
       "      <td>14</td>\n",
       "      <td>9000</td>\n",
       "      <td>1</td>\n",
       "      <td>0</td>\n",
       "      <td>1</td>\n",
       "      <td>0</td>\n",
       "      <td>12.50</td>\n",
       "      <td>11.50</td>\n",
       "    </tr>\n",
       "    <tr>\n",
       "      <th>300</th>\n",
       "      <td>66</td>\n",
       "      <td>13</td>\n",
       "      <td>5464</td>\n",
       "      <td>2</td>\n",
       "      <td>0</td>\n",
       "      <td>1</td>\n",
       "      <td>0</td>\n",
       "      <td>5.90</td>\n",
       "      <td>5.30</td>\n",
       "    </tr>\n",
       "  </tbody>\n",
       "</table>\n",
       "<p>301 rows × 9 columns</p>\n",
       "</div>"
      ],
      "text/plain": [
       "     Car_Name  Year  Kms_Driven  Fuel_Type  Seller_Type  Transmission  Owner  \\\n",
       "0          90    11       27000          2            0             1      0   \n",
       "1          93    10       43000          1            0             1      0   \n",
       "2          68    14        6900          2            0             1      0   \n",
       "3          96     8        5200          2            0             1      0   \n",
       "4          92    11       42450          1            0             1      0   \n",
       "..        ...   ...         ...        ...          ...           ...    ...   \n",
       "296        69    13       33988          1            0             1      0   \n",
       "297        66    12       60000          2            0             1      0   \n",
       "298        69     6       87934          2            0             1      0   \n",
       "299        69    14        9000          1            0             1      0   \n",
       "300        66    13        5464          2            0             1      0   \n",
       "\n",
       "     Present_Price  Selling_Price  \n",
       "0             5.59           3.35  \n",
       "1             9.54           4.75  \n",
       "2             9.85           7.25  \n",
       "3             4.15           2.85  \n",
       "4             6.87           4.60  \n",
       "..             ...            ...  \n",
       "296          11.60           9.50  \n",
       "297           5.90           4.00  \n",
       "298          11.00           3.35  \n",
       "299          12.50          11.50  \n",
       "300           5.90           5.30  \n",
       "\n",
       "[301 rows x 9 columns]"
      ]
     },
     "execution_count": 27,
     "metadata": {},
     "output_type": "execute_result"
    }
   ],
   "source": [
    "# Data has text so we encode\n",
    "from sklearn.preprocessing import LabelEncoder\n",
    "encoder= LabelEncoder()\n",
    "\n",
    "data['Fuel_Type']= encoder.fit_transform(data['Fuel_Type'])\n",
    "data['Seller_Type']= encoder.fit_transform(data['Seller_Type'])\n",
    "data['Transmission']= encoder.fit_transform(data['Transmission'])\n",
    "data['Car_Name']= encoder.fit_transform(data['Car_Name'])\n",
    "data['Year']= encoder.fit_transform(data['Year'])\n",
    "\n",
    "data\n"
   ]
  },
  {
   "cell_type": "code",
   "execution_count": 28,
   "metadata": {},
   "outputs": [
    {
     "data": {
      "text/plain": [
       "array([[9.0000e+01, 1.1000e+01, 2.7000e+04, ..., 0.0000e+00, 5.5900e+00,\n",
       "        3.3500e+00],\n",
       "       [9.3000e+01, 1.0000e+01, 4.3000e+04, ..., 0.0000e+00, 9.5400e+00,\n",
       "        4.7500e+00],\n",
       "       [6.8000e+01, 1.4000e+01, 6.9000e+03, ..., 0.0000e+00, 9.8500e+00,\n",
       "        7.2500e+00],\n",
       "       ...,\n",
       "       [6.9000e+01, 6.0000e+00, 8.7934e+04, ..., 0.0000e+00, 1.1000e+01,\n",
       "        3.3500e+00],\n",
       "       [6.9000e+01, 1.4000e+01, 9.0000e+03, ..., 0.0000e+00, 1.2500e+01,\n",
       "        1.1500e+01],\n",
       "       [6.6000e+01, 1.3000e+01, 5.4640e+03, ..., 0.0000e+00, 5.9000e+00,\n",
       "        5.3000e+00]])"
      ]
     },
     "execution_count": 28,
     "metadata": {},
     "output_type": "execute_result"
    }
   ],
   "source": [
    "array=data.values\n",
    "array"
   ]
  },
  {
   "cell_type": "markdown",
   "metadata": {},
   "source": [
    "# Split into X and Y "
   ]
  },
  {
   "cell_type": "code",
   "execution_count": 29,
   "metadata": {},
   "outputs": [],
   "source": [
    "X= array[:,0:8] #Kms_Driven,Fuel_Type,Seller_Type,Transmission,Present_Price\n",
    "Y= array[:,8]# Selling_Price"
   ]
  },
  {
   "cell_type": "code",
   "execution_count": 30,
   "metadata": {},
   "outputs": [],
   "source": [
    "from sklearn import model_selection\n",
    "X_train, X_test, Y_train, Y_test = model_selection.train_test_split(X,Y,test_size=0.30,random_state=42)"
   ]
  },
  {
   "cell_type": "markdown",
   "metadata": {},
   "source": [
    "# Test The Model"
   ]
  },
  {
   "cell_type": "code",
   "execution_count": 31,
   "metadata": {},
   "outputs": [
    {
     "name": "stdout",
     "output_type": "stream",
     "text": [
      "Model Predicted  [ 2.85324722  8.18716407  6.13210941 -1.48616577  9.11577113  7.14451222\n",
      "  1.39078229  0.81320587  1.43694233  7.19427722  8.75300094  0.62582211\n",
      "  8.21110572  3.33110932  6.55913743  3.09808086  0.45873805 10.72559198\n",
      "  1.81007951  2.35749594  0.40948183  7.80669687  6.23932659  2.57233807\n",
      "  0.87642759  3.66937878  5.3146257   2.81243073  2.18673233  1.80023461\n",
      "  0.44184507  8.87518226 -0.61583119  2.24413458  8.3005378   4.5307961\n",
      "  7.30439958  7.55486478  2.91160813  7.94021584  3.8955671   4.18620443\n",
      "  4.33515507  0.6681462   7.00761468  0.5287992   7.3364162  11.11149407\n",
      "  3.119024    5.05864064  6.58310915  2.21346109 20.16046198 16.47549493\n",
      "  7.23352587  9.55607053  4.42965425  8.69492801  1.76881674  7.39702303\n",
      "  0.27701975 -2.48746322  2.05932601 -1.53113137  4.78658661  1.83626033\n",
      " 19.81478235 17.89045967  5.43669898 -0.52788981  4.70351531  5.19664872\n",
      "  5.64156636  4.97249633  2.71484148  1.69812556  1.91608873  9.75890259\n",
      "  0.93396848  7.77640573  4.50361991  3.31361195  4.77486827 14.07357904\n",
      "  2.29030218  2.97983761  0.91235444  3.40249528  1.27339618 16.59388068\n",
      "  1.42564588]\n",
      "Expected  [ 0.35 10.11  4.95  0.15  6.95  7.45  1.1   0.5   0.45  6.    9.25  1.1\n",
      "  7.5   0.4   6.15  2.65  0.95 17.    0.48  1.7   0.42  8.35  5.35  3.\n",
      "  0.6   3.75  5.    2.65  1.2   1.2   0.65  8.25  0.45  1.95  7.75  3.65\n",
      "  5.5   3.8   2.9   4.75  3.51  1.5   4.5   0.42  6.5   0.6   6.25  5.25\n",
      "  4.    3.1   5.11  1.35 23.5  23.    8.25 10.9   5.5   9.5   2.1   7.4\n",
      "  0.3   0.25  0.75  0.2   3.95  1.15 19.99 23.    6.75  0.38  3.1   4.4\n",
      "  5.65  4.5   2.    1.15  0.78 11.45  0.18  9.7   5.25  2.9   3.49 19.75\n",
      "  2.95  0.45  1.05  2.65  0.3  14.5   1.15]\n"
     ]
    }
   ],
   "source": [
    "from sklearn.linear_model import LinearRegression\n",
    "\n",
    "model=LinearRegression()\n",
    "model.fit(X_train, Y_train)\n",
    "predictions = model.predict(X_test)\n",
    "print('Model Predicted ', predictions)\n",
    "print('Expected ', Y_test)"
   ]
  },
  {
   "cell_type": "markdown",
   "metadata": {},
   "source": [
    "# Run metrics"
   ]
  },
  {
   "cell_type": "code",
   "execution_count": 32,
   "metadata": {},
   "outputs": [
    {
     "name": "stdout",
     "output_type": "stream",
     "text": [
      "accuracy 0.8774173360862569\n"
     ]
    }
   ],
   "source": [
    "from sklearn.metrics import r2_score\n",
    "print('accuracy',r2_score(Y_test,predictions))"
   ]
  },
  {
   "cell_type": "markdown",
   "metadata": {},
   "source": [
    "## Test the best Regression Model"
   ]
  },
  {
   "cell_type": "code",
   "execution_count": 33,
   "metadata": {},
   "outputs": [
    {
     "name": "stdout",
     "output_type": "stream",
     "text": [
      "model predicted [ 0.56687775 11.07632775  4.92376051  0.27045374  7.92832179  6.73379199\n",
      "  1.11191     0.54951272  0.51811523  6.75218722  8.72008802  0.98724265\n",
      "  7.72646565  0.5910425   5.59447811  2.22002212  1.11491817 12.62159189\n",
      "  0.508024    1.47987033  0.34508476  8.12003292  5.08261468  2.59753716\n",
      "  0.53874425  4.04243466  5.22586565  3.05269987  1.27013447  1.3114854\n",
      "  0.76132509  9.66340758  0.36268971  2.69013018  7.90293715  4.18534625\n",
      "  6.73103445  4.19497601  2.59493055  4.85063525  5.122531    3.13121034\n",
      "  4.25842269  0.46753477  6.44090977  0.71789211  8.27990844  5.13524307\n",
      "  2.61979046  4.28684191  5.34924606  1.28609983 21.27876099 24.07722633\n",
      "  6.7660164  10.01147434  4.89885075  8.55342447  2.52859718  7.28655568\n",
      "  0.31927506  0.22340742  0.78063711  0.32764911  4.71644714  1.32225387\n",
      " 20.93242993 22.26284053  6.60594016  0.25058132  4.16268153  3.33099616\n",
      "  5.55226333  4.44739548  2.70072905  1.16027312  0.73369964 11.83461658\n",
      "  0.40653238  9.3872261   4.67686043  3.34817474  8.61365277 14.97602636\n",
      "  2.52589893  0.60113373  1.237793    2.55713494  0.4850661  16.80001672\n",
      "  1.11191   ]\n",
      "Expected [ 0.35 10.11  4.95  0.15  6.95  7.45  1.1   0.5   0.45  6.    9.25  1.1\n",
      "  7.5   0.4   6.15  2.65  0.95 17.    0.48  1.7   0.42  8.35  5.35  3.\n",
      "  0.6   3.75  5.    2.65  1.2   1.2   0.65  8.25  0.45  1.95  7.75  3.65\n",
      "  5.5   3.8   2.9   4.75  3.51  1.5   4.5   0.42  6.5   0.6   6.25  5.25\n",
      "  4.    3.1   5.11  1.35 23.5  23.    8.25 10.9   5.5   9.5   2.1   7.4\n",
      "  0.3   0.25  0.75  0.2   3.95  1.15 19.99 23.    6.75  0.38  3.1   4.4\n",
      "  5.65  4.5   2.    1.15  0.78 11.45  0.18  9.7   5.25  2.9   3.49 19.75\n",
      "  2.95  0.45  1.05  2.65  0.3  14.5   1.15]\n",
      "accuracy 0.9567242795217799\n"
     ]
    }
   ],
   "source": [
    "#Try with GradientBoostingRegressor to get a better score\n",
    "\n",
    "from sklearn.ensemble import GradientBoostingRegressor\n",
    "\n",
    "model= GradientBoostingRegressor()\n",
    "model.fit(X_train, Y_train)\n",
    "\n",
    "predictions= model.predict(X_test)\n",
    "print('model predicted',predictions)\n",
    "print ('Expected', Y_test)\n",
    "\n",
    "\n",
    "from sklearn.metrics import r2_score\n",
    "print('accuracy',r2_score(Y_test,predictions))"
   ]
  },
  {
   "cell_type": "code",
   "execution_count": 34,
   "metadata": {},
   "outputs": [
    {
     "name": "stdout",
     "output_type": "stream",
     "text": [
      "model predicted [ 0.4705 10.5248  5.1015  0.191   7.281   6.94    1.0714  0.6178  0.4711\n",
      "  6.531   8.161   1.0353  8.0803  0.5138  5.2705  2.623   1.1184 13.17\n",
      "  0.4867  1.5255  0.261   8.0524  4.768   2.876   0.513   4.0565  5.1555\n",
      "  3.443   1.1362  1.1913  0.4907  8.7133  0.4702  2.546   7.6143  4.0435\n",
      "  6.4405  6.047   2.734   6.363   4.97    3.4375  4.818   0.5424  6.0585\n",
      "  0.7049  7.8015  5.3525  3.002   4.0295  4.8155  1.4859 23.2288 20.1392\n",
      "  6.4365 10.3567  5.103   8.7522  2.926   6.567   0.2438  0.2182  0.8278\n",
      "  0.4354  4.552   1.1101 22.38   21.2744  6.75    0.4508  3.7935  3.6975\n",
      "  5.661   4.6395  2.882   1.0642  0.7294 12.5401  0.4277  9.3385  5.3045\n",
      "  3.619   6.186  15.4843  2.6     0.488   1.1695  2.823   0.4712 17.294\n",
      "  1.1213]\n",
      "Expected [ 0.35 10.11  4.95  0.15  6.95  7.45  1.1   0.5   0.45  6.    9.25  1.1\n",
      "  7.5   0.4   6.15  2.65  0.95 17.    0.48  1.7   0.42  8.35  5.35  3.\n",
      "  0.6   3.75  5.    2.65  1.2   1.2   0.65  8.25  0.45  1.95  7.75  3.65\n",
      "  5.5   3.8   2.9   4.75  3.51  1.5   4.5   0.42  6.5   0.6   6.25  5.25\n",
      "  4.    3.1   5.11  1.35 23.5  23.    8.25 10.9   5.5   9.5   2.1   7.4\n",
      "  0.3   0.25  0.75  0.2   3.95  1.15 19.99 23.    6.75  0.38  3.1   4.4\n",
      "  5.65  4.5   2.    1.15  0.78 11.45  0.18  9.7   5.25  2.9   3.49 19.75\n",
      "  2.95  0.45  1.05  2.65  0.3  14.5   1.15]\n",
      "accuracy 0.9616853220165893\n"
     ]
    }
   ],
   "source": [
    "#Try with RandomForestRegressor to get a better score\n",
    "\n",
    "from sklearn.ensemble import RandomForestRegressor\n",
    "\n",
    "model=  RandomForestRegressor()\n",
    "model.fit(X_train, Y_train)\n",
    "\n",
    "predictions= model.predict(X_test)\n",
    "print('model predicted',predictions)\n",
    "print ('Expected', Y_test)\n",
    "\n",
    "\n",
    "from sklearn.metrics import r2_score\n",
    "print('accuracy',r2_score(Y_test,predictions))\n"
   ]
  },
  {
   "cell_type": "code",
   "execution_count": 35,
   "metadata": {},
   "outputs": [
    {
     "name": "stdout",
     "output_type": "stream",
     "text": [
      "model predicted [ 0.48  9.15  5.2   0.16  7.05  7.45  1.    0.4   0.5   5.95  9.25  1.\n",
      "  4.95  0.45  5.95  2.35  1.25 18.    0.48  1.65  0.25  8.75  4.5   2.7\n",
      "  0.45  4.4   5.25  3.25  1.11  1.25  0.6   8.5   0.45  3.25  7.75  3.9\n",
      "  5.85  5.9   2.55  5.9   3.6   3.35  3.45  0.55  6.5   0.65  8.5   4.\n",
      "  2.7   4.75  4.95  1.65 18.75 20.75  5.95  9.15  5.25  7.75  3.25  6.4\n",
      "  0.25  0.2   0.8   0.6   4.    1.05 18.75 23.    7.9   0.6   3.9   3.25\n",
      "  6.1   4.5   2.75  1.    0.8  11.25  0.4   8.65  5.3   3.25  4.35 18.\n",
      "  2.55  0.45  1.2   3.25  0.5  14.9   1.11]\n",
      "Expected [ 0.35 10.11  4.95  0.15  6.95  7.45  1.1   0.5   0.45  6.    9.25  1.1\n",
      "  7.5   0.4   6.15  2.65  0.95 17.    0.48  1.7   0.42  8.35  5.35  3.\n",
      "  0.6   3.75  5.    2.65  1.2   1.2   0.65  8.25  0.45  1.95  7.75  3.65\n",
      "  5.5   3.8   2.9   4.75  3.51  1.5   4.5   0.42  6.5   0.6   6.25  5.25\n",
      "  4.    3.1   5.11  1.35 23.5  23.    8.25 10.9   5.5   9.5   2.1   7.4\n",
      "  0.3   0.25  0.75  0.2   3.95  1.15 19.99 23.    6.75  0.38  3.1   4.4\n",
      "  5.65  4.5   2.    1.15  0.78 11.45  0.18  9.7   5.25  2.9   3.49 19.75\n",
      "  2.95  0.45  1.05  2.65  0.3  14.5   1.15]\n",
      "accuracy 0.9663162595299206\n"
     ]
    }
   ],
   "source": [
    "#Try with  DecisionTreeRegressor to get a better score\n",
    "\n",
    "from sklearn.tree import DecisionTreeRegressor\n",
    "\n",
    "model= DecisionTreeRegressor()\n",
    "model.fit(X_train, Y_train)\n",
    "\n",
    "predictions= model.predict(X_test)\n",
    "print('model predicted',predictions)\n",
    "print ('Expected', Y_test)\n",
    "\n",
    "\n",
    "from sklearn.metrics import r2_score\n",
    "print('accuracy',r2_score(Y_test,predictions))\n"
   ]
  },
  {
   "cell_type": "code",
   "execution_count": 36,
   "metadata": {
    "scrolled": true
   },
   "outputs": [
    {
     "name": "stdout",
     "output_type": "stream",
     "text": [
      "model predicted [ 0.5  11.5   5.2   0.16  7.05  7.45  0.9   0.4   0.5   5.5   9.25  0.9\n",
      "  4.5   0.45  5.95  2.35  1.25 18.    0.48  1.45  0.25  8.75  4.5   2.7\n",
      "  0.45  4.5   5.25  2.95  1.25  1.11  0.55  8.55  0.45  3.25  7.75  3.9\n",
      "  5.85  5.9   2.55  5.9   3.6   3.35  3.45  0.6   6.5   0.65  8.5   4.35\n",
      "  2.7   4.5   4.5   1.65 23.   20.75  5.95  9.15  5.25  8.75  3.25  6.4\n",
      "  0.25  0.2   0.8   0.55  4.75  1.05 18.75 23.    7.9   0.55  3.9   2.95\n",
      "  6.1   4.5   2.75  0.9   0.8  11.25  0.4   8.65  5.5   2.95  4.   18.\n",
      "  2.55  0.45  1.2   2.95  0.5  14.9   1.11]\n",
      "Expected [ 0.35 10.11  4.95  0.15  6.95  7.45  1.1   0.5   0.45  6.    9.25  1.1\n",
      "  7.5   0.4   6.15  2.65  0.95 17.    0.48  1.7   0.42  8.35  5.35  3.\n",
      "  0.6   3.75  5.    2.65  1.2   1.2   0.65  8.25  0.45  1.95  7.75  3.65\n",
      "  5.5   3.8   2.9   4.75  3.51  1.5   4.5   0.42  6.5   0.6   6.25  5.25\n",
      "  4.    3.1   5.11  1.35 23.5  23.    8.25 10.9   5.5   9.5   2.1   7.4\n",
      "  0.3   0.25  0.75  0.2   3.95  1.15 19.99 23.    6.75  0.38  3.1   4.4\n",
      "  5.65  4.5   2.    1.15  0.78 11.45  0.18  9.7   5.25  2.9   3.49 19.75\n",
      "  2.95  0.45  1.05  2.65  0.3  14.5   1.15]\n",
      "accuracy 0.9746478425069962\n"
     ]
    }
   ],
   "source": [
    "#Try with   Lasso to get a better score\n",
    "\n",
    "from sklearn.linear_model import Lasso\n",
    "\n",
    "model= DecisionTreeRegressor()\n",
    "model.fit(X_train, Y_train)\n",
    "\n",
    "predictions= model.predict(X_test)\n",
    "print('model predicted',predictions)\n",
    "print ('Expected', Y_test)\n",
    "\n",
    "from sklearn.metrics import r2_score\n",
    "print('accuracy',r2_score(Y_test,predictions))\n"
   ]
  },
  {
   "cell_type": "markdown",
   "metadata": {},
   "source": [
    "# Validate Model"
   ]
  },
  {
   "cell_type": "code",
   "execution_count": 37,
   "metadata": {
    "scrolled": true
   },
   "outputs": [
    {
     "data": {
      "text/plain": [
       "Text(0, 0.5, 'model predicted')"
      ]
     },
     "execution_count": 37,
     "metadata": {},
     "output_type": "execute_result"
    },
    {
     "data": {
      "image/png": "[encoded data removed]",
      "text/plain": [
       "<Figure size 432x288 with 1 Axes>"
      ]
     },
     "metadata": {
      "needs_background": "light"
     },
     "output_type": "display_data"
    }
   ],
   "source": [
    "\n",
    "predictions= model.predict(X_test)\n",
    "plt.scatter(Y_test,predictions)\n",
    "plt.xlabel('y')\n",
    "plt.ylabel('model predicted')"
   ]
  },
  {
   "cell_type": "code",
   "execution_count": 39,
   "metadata": {},
   "outputs": [
    {
     "name": "stdout",
     "output_type": "stream",
     "text": [
      "Car Price is [3.45] $\n"
     ]
    }
   ],
   "source": [
    "expense= [[93,10,30000,2,1,1,0,6]]\n",
    "outcome= model.predict(expense)\n",
    "print('Car Price is',outcome,'$')"
   ]
  },
  {
   "cell_type": "markdown",
   "metadata": {},
   "source": [
    "The chosen model was RandomForestRegressor since it´s the most accurate with a high R2 score of 0.96,. We could reach a more robust model by adding  more features to the data."
   ]
  },
  {
   "cell_type": "code",
   "execution_count": null,
   "metadata": {},
   "outputs": [],
   "source": []
  }
 ],
 "metadata": {
  "kernelspec": {
   "display_name": "Python 3",
   "language": "python",
   "name": "python3"
  },
  "language_info": {
   "codemirror_mode": {
    "name": "ipython",
    "version": 3
   },
   "file_extension": ".py",
   "mimetype": "text/x-python",
   "name": "python",
   "nbconvert_exporter": "python",
   "pygments_lexer": "ipython3",
   "version": "3.8.8"
  }
 },
 "nbformat": 4,
 "nbformat_minor": 4
}
